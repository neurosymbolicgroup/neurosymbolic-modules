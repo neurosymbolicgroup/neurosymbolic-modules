{
 "cells": [
  {
   "cell_type": "markdown",
   "id": "179f37d3",
   "metadata": {},
   "source": [
    "## Noa project\n",
    "\n",
    "The goal is to convert the Program object into a DreamCoder program, which is expressed via lambda calculus. That way we can run DreamCoder's compression algorithm on the programs we create from our bidirectional search algorithm. You can manually construct the program by composing different classes together from `dreamcoder/program.py`. There should be a way to check that the program you create, when evaluated on the input grids, generates the output grids. These should be written as automatic tests done to make sure that the creations are correct."
   ]
  },
  {
   "cell_type": "markdown",
   "id": "eb22a84f",
   "metadata": {},
   "source": []
  },
  {
   "cell_type": "code",
   "execution_count": null,
   "id": "cd8fd553",
   "metadata": {},
   "outputs": [],
   "source": []
  }
 ],
 "metadata": {
  "kernelspec": {
   "display_name": "Python 3",
   "language": "python",
   "name": "python3"
  },
  "language_info": {
   "codemirror_mode": {
    "name": "ipython",
    "version": 3
   },
   "file_extension": ".py",
   "mimetype": "text/x-python",
   "name": "python",
   "nbconvert_exporter": "python",
   "pygments_lexer": "ipython3",
   "version": "3.6.12"
  }
 },
 "nbformat": 4,
 "nbformat_minor": 5
}
