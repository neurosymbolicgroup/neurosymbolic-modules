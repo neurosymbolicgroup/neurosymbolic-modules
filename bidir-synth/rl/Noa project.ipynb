{
 "cells": [
  {
   "cell_type": "markdown",
   "id": "524ca893",
   "metadata": {},
   "source": [
    "## Noa project\n",
    "\n",
    "The goal is to convert the Program object into a DreamCoder program, which is expressed via lambda calculus. That way we can run DreamCoder's compression algorithm on the programs we create from our bidirectional search algorithm. You can manually construct the program by composing different classes together from `dreamcoder/program.py`. There should be a way to check that the program you create, when evaluated on the input grids, generates the output grids. These should be written as automatic tests done to make sure that the creations are correct."
   ]
  },
  {
   "cell_type": "code",
   "execution_count": null,
   "id": "303ee2b8",
   "metadata": {
    "collapsed": true
   },
   "outputs": [],
   "source": [
    "from bidir.primitives.functions import Function\n",
    "from ec.dreamcoder.program import Primitive"
   ]
  },
  {
   "cell_type": "markdown",
   "id": "3236f8f5",
   "metadata": {},
   "source": [
    "First, you have to make the primitive functions:"
   ]
  },
  {
   "cell_type": "code",
   "execution_count": 1,
   "id": "4bf95cb6",
   "metadata": {
    "scrolled": true
   },
   "outputs": [
    {
     "ename": "NameError",
     "evalue": "name 'Function' is not defined",
     "output_type": "error",
     "traceback": [
      "\u001b[0;31m---------------------------------------------------------------------------\u001b[0m",
      "\u001b[0;31mNameError\u001b[0m                                 Traceback (most recent call last)",
      "\u001b[0;32m<ipython-input-1-44d1b7da5177>\u001b[0m in \u001b[0;36m<module>\u001b[0;34m\u001b[0m\n\u001b[0;32m----> 1\u001b[0;31m \u001b[0;32mdef\u001b[0m \u001b[0mconvert_to_dc_primitive\u001b[0m\u001b[0;34m(\u001b[0m\u001b[0mfn\u001b[0m\u001b[0;34m:\u001b[0m \u001b[0mFunction\u001b[0m\u001b[0;34m)\u001b[0m \u001b[0;34m->\u001b[0m \u001b[0mPrimitive\u001b[0m\u001b[0;34m:\u001b[0m\u001b[0;34m\u001b[0m\u001b[0;34m\u001b[0m\u001b[0m\n\u001b[0m\u001b[1;32m      2\u001b[0m     \u001b[0;32mraise\u001b[0m \u001b[0mNotImplementedError\u001b[0m\u001b[0;34m\u001b[0m\u001b[0;34m\u001b[0m\u001b[0m\n",
      "\u001b[0;31mNameError\u001b[0m: name 'Function' is not defined"
     ]
    }
   ],
   "source": [
    "def convert_to_dc_primitive(fn: Function) -> Primitive:\n",
    "    raise NotImplementedError"
   ]
  },
  {
   "cell_type": "markdown",
   "id": "cecd247b",
   "metadata": {},
   "source": [
    "For example, we might want to convert `rotate_cw` and `block` into corresponding DC primitives, copied below for reference:"
   ]
  },
  {
   "cell_type": "code",
   "execution_count": 2,
   "id": "29096b67",
   "metadata": {},
   "outputs": [
    {
     "ename": "NameError",
     "evalue": "name 'Grid' is not defined",
     "output_type": "error",
     "traceback": [
      "\u001b[0;31m---------------------------------------------------------------------------\u001b[0m",
      "\u001b[0;31mNameError\u001b[0m                                 Traceback (most recent call last)",
      "\u001b[0;32m<ipython-input-2-9a725f5fcf52>\u001b[0m in \u001b[0;36m<module>\u001b[0;34m\u001b[0m\n\u001b[0;32m----> 1\u001b[0;31m \u001b[0;32mdef\u001b[0m \u001b[0mrotate_ccw\u001b[0m\u001b[0;34m(\u001b[0m\u001b[0mgrid\u001b[0m\u001b[0;34m:\u001b[0m \u001b[0mGrid\u001b[0m\u001b[0;34m)\u001b[0m \u001b[0;34m->\u001b[0m \u001b[0mGrid\u001b[0m\u001b[0;34m:\u001b[0m\u001b[0;34m\u001b[0m\u001b[0;34m\u001b[0m\u001b[0m\n\u001b[0m\u001b[1;32m      2\u001b[0m     \u001b[0;32mreturn\u001b[0m \u001b[0mGrid\u001b[0m\u001b[0;34m(\u001b[0m\u001b[0mnp\u001b[0m\u001b[0;34m.\u001b[0m\u001b[0mrot90\u001b[0m\u001b[0;34m(\u001b[0m\u001b[0mgrid\u001b[0m\u001b[0;34m.\u001b[0m\u001b[0marr\u001b[0m\u001b[0;34m)\u001b[0m\u001b[0;34m,\u001b[0m \u001b[0mgrid\u001b[0m\u001b[0;34m.\u001b[0m\u001b[0mpos\u001b[0m\u001b[0;34m)\u001b[0m\u001b[0;34m\u001b[0m\u001b[0;34m\u001b[0m\u001b[0m\n\u001b[1;32m      3\u001b[0m \u001b[0;34m\u001b[0m\u001b[0m\n\u001b[1;32m      4\u001b[0m \u001b[0;34m\u001b[0m\u001b[0m\n\u001b[1;32m      5\u001b[0m \u001b[0;32mdef\u001b[0m \u001b[0mblock\u001b[0m\u001b[0;34m(\u001b[0m\u001b[0mheight\u001b[0m\u001b[0;34m:\u001b[0m \u001b[0mint\u001b[0m\u001b[0;34m,\u001b[0m \u001b[0mwidth\u001b[0m\u001b[0;34m:\u001b[0m \u001b[0mint\u001b[0m\u001b[0;34m,\u001b[0m \u001b[0mcolor\u001b[0m\u001b[0;34m:\u001b[0m \u001b[0mColor\u001b[0m\u001b[0;34m)\u001b[0m \u001b[0;34m->\u001b[0m \u001b[0mGrid\u001b[0m\u001b[0;34m:\u001b[0m\u001b[0;34m\u001b[0m\u001b[0;34m\u001b[0m\u001b[0m\n",
      "\u001b[0;31mNameError\u001b[0m: name 'Grid' is not defined"
     ]
    }
   ],
   "source": [
    "def rotate_ccw(grid: Grid) -> Grid:\n",
    "    return Grid(np.rot90(grid.arr), grid.pos)\n",
    "\n",
    "\n",
    "def block(height: int, width: int, color: Color) -> Grid:\n",
    "    \"\"\"Returns a solid-colored grid of given shape.\"\"\"\n",
    "    arr = np.full((height, width), color.value)\n",
    "    return Grid(arr)"
   ]
  },
  {
   "cell_type": "markdown",
   "id": "53a96dce",
   "metadata": {},
   "source": [
    "To do this, we can do something like this:"
   ]
  },
  {
   "cell_type": "code",
   "execution_count": 3,
   "id": "9da5805d",
   "metadata": {},
   "outputs": [
    {
     "ename": "ModuleNotFoundError",
     "evalue": "No module named 'ec'",
     "output_type": "error",
     "traceback": [
      "\u001b[0;31m---------------------------------------------------------------------------\u001b[0m",
      "\u001b[0;31mModuleNotFoundError\u001b[0m                       Traceback (most recent call last)",
      "\u001b[0;32m<ipython-input-3-7ac4dc588c25>\u001b[0m in \u001b[0;36m<module>\u001b[0;34m\u001b[0m\n\u001b[0;32m----> 1\u001b[0;31m \u001b[0;32mfrom\u001b[0m \u001b[0mec\u001b[0m\u001b[0;34m.\u001b[0m\u001b[0mdreamcoder\u001b[0m\u001b[0;34m.\u001b[0m\u001b[0mtype\u001b[0m \u001b[0;32mimport\u001b[0m \u001b[0marrow\u001b[0m\u001b[0;34m\u001b[0m\u001b[0;34m\u001b[0m\u001b[0m\n\u001b[0m\u001b[1;32m      2\u001b[0m \u001b[0mtgrid\u001b[0m \u001b[0;34m=\u001b[0m \u001b[0mbaseType\u001b[0m\u001b[0;34m(\u001b[0m\u001b[0;34m\"grid\"\u001b[0m\u001b[0;34m)\u001b[0m\u001b[0;34m\u001b[0m\u001b[0;34m\u001b[0m\u001b[0m\n\u001b[1;32m      3\u001b[0m \u001b[0mtint\u001b[0m \u001b[0;34m=\u001b[0m \u001b[0mbaseType\u001b[0m\u001b[0;34m(\u001b[0m\u001b[0;34m\"tint\"\u001b[0m\u001b[0;34m)\u001b[0m\u001b[0;34m\u001b[0m\u001b[0;34m\u001b[0m\u001b[0m\n\u001b[1;32m      4\u001b[0m \u001b[0mtcolor\u001b[0m \u001b[0;34m=\u001b[0m \u001b[0mbaseType\u001b[0m\u001b[0;34m(\u001b[0m\u001b[0;34m\"tcolor\"\u001b[0m\u001b[0;34m)\u001b[0m\u001b[0;34m\u001b[0m\u001b[0;34m\u001b[0m\u001b[0m\n\u001b[1;32m      5\u001b[0m \u001b[0;34m\u001b[0m\u001b[0m\n",
      "\u001b[0;31mModuleNotFoundError\u001b[0m: No module named 'ec'"
     ]
    }
   ],
   "source": [
    "from ec.dreamcoder.type import arrow\n",
    "tgrid = baseType(\"grid\")\n",
    "tint = baseType(\"tint\")\n",
    "tcolor = baseType(\"tcolor\")\n",
    "\n",
    "\n",
    "rotate_cw_dc = Primitive(\"rotate_cw\", arrow(tgrid, tgrid), lambda grid: rotate_cw(grid))\n",
    "block_dc = Primitive(\"block\", arrow(tint, tint, tcolor, tgrid), lambda height: lambda w: lambda color: block(height, width, color))"
   ]
  },
  {
   "cell_type": "markdown",
   "id": "a8f0bb03",
   "metadata": {},
   "source": [
    "Steps for you to work on:\n",
    "1. Take the code written above for creating a rotate_cw primitive, and make sure it runs correctly. \n",
    "2. Modify the arc input so that the data types are the same as what's used for the RL set-up.\n",
    "3. Modify the arc demo (or another DC script I gave you) so that it tries solving tasks using the rotate_cw primitive here. Should be able to solve a couple of the symmetry tasks that only involve rotations.\n",
    "4. Implement a few more primitives in the same way.\n",
    "5. The goal is to convert all of the RL primitives into DC primitives. This can be done automatically, if you notice the pattern in how the name, arrow type, and lambda function at the end is made. Implement this function. You should take a bidir.primitives.functions.Function as input, as this stores the type info for an RL primitive.\n",
    "\n",
    "Then you can work on automatically converting an RL Program into a Dreamcoder Program, by taking the Program object, converting all of the function calls into DC function calls, and converting the Program AST into the lambda calculus style thing that I showed you before (do you still have that code?\n",
    "\n",
    "Step 2 will probably be confusing, because you have to understand how some of the Dreamcoder code is organized. Here are some steps to guide you along understanding how it is organized:\n",
    "1. Run the ARC demo.\n",
    "2. Look into where the tasks are created. How to we input ARC tasks to Dreamcoder? The type is `Task`, from `dreamcoder/task.py`. How are these tasks created? Check out dreamcoder/domains/arc/makeTasks.py.\n",
    "3. We'd like to create tasks in DC so that they're created out of the same Grid type as the RL tasks. What type is currently used for representing ARC tasks? It should be the Grid type from dreamcoder/domains/arc/arcPrimitives.py. Instead of using this Grid type, we'd like to use the Grid type from bidir/primitives/types.py. \n",
    "4. Make a new function that, given a task number, creates an ARC task using the RL Grid type. Note you have to specify the type of the task, i.e. the input and output. it should be arrow(tgrid, tgrid): one input grid, one output grid. You can reuse the tgrid type from before, although instead of importing it from arcPrimitives, I would redefine a new copy of it, so your code is separate from arcPrimitives. (`tgrid = basetype(\"grid\")`).\n",
    "\n",
    "Once you do these steps, you can move on to step 3. Now, since the task uses the underlying Grid type from the RL framework, we can use our primitive that wraps an RL primitive into a DC primitive, and so the primitive operates on the right type.\n",
    "\n",
    "Step four is just to notice the pattern of how these DC-wrapper primitives are made based on the RL primitives. Once you notice the pattern, you can do step 5 to do it automatically for all of the RL primitives."
   ]
  },
  {
   "cell_type": "code",
   "execution_count": null,
   "id": "22126734",
   "metadata": {},
   "outputs": [],
   "source": []
  }
 ],
 "metadata": {
  "kernelspec": {
   "display_name": "Python 3",
   "language": "python",
   "name": "python3"
  },
  "language_info": {
   "codemirror_mode": {
    "name": "ipython",
    "version": 3
   },
   "file_extension": ".py",
   "mimetype": "text/x-python",
   "name": "python",
   "nbconvert_exporter": "python",
   "pygments_lexer": "ipython3",
   "version": "3.6.12"
  }
 },
 "nbformat": 4,
 "nbformat_minor": 5
}
